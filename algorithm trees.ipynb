{
 "cells": [
  {
   "cell_type": "code",
   "execution_count": 1,
   "metadata": {},
   "outputs": [],
   "source": [
    "\n",
    "class Node:\n",
    "  '''\n",
    "  Create a manual binary tree example. \n",
    "  Trees can inherently have 3 childrend per node. \n",
    "  Trees is best used for hierarchical data, or layered data.\n",
    "  i.e. an org chart.\n",
    "  i.e. machine learning models broken to learning methods, classes, etc.\n",
    "  Traversing a tree can be done via breadth & depth; starting from root.\n",
    "  '''\n",
    "  def __init__(self, val):\n",
    "    self.left = None # left child\n",
    "    self.right = None # right child\n",
    "    self.val = val # value of node\n",
    "    \n",
    "# Establish the initial root node and children\n",
    "root = Node('A')\n",
    "root.left = Node('B')\n",
    "root.right = Node('C')"
   ]
  },
  {
   "cell_type": "code",
   "execution_count": 6,
   "metadata": {},
   "outputs": [
    {
     "name": "stdout",
     "output_type": "stream",
     "text": [
      "Breadth traversal:\n",
      "1\n",
      "2\n",
      "3\n",
      "4\n",
      "5\n",
      "6\n",
      "7\n",
      "8\n",
      "9\n",
      "10\n",
      "11\n",
      "12\n",
      "13\n",
      "14\n",
      "15\n"
     ]
    }
   ],
   "source": [
    "class Node: \n",
    "  '''\n",
    "  Recursive program for breadth order traversal\n",
    "  '''\n",
    "  def __init__(self, val): \n",
    "    self.left = None\n",
    "    self.right = None\n",
    "    self.val = val  \n",
    "def breadthLevel(root): # print breadth order of tree\n",
    "    h = height(root) \n",
    "    for i in range(1, h+1): \n",
    "        levelNodes(root, i) \n",
    "def levelNodes(root , level): # Print nodes at a given level \n",
    "    if root is None: \n",
    "        return\n",
    "    if level == 1: \n",
    "        print(root.val), \n",
    "    elif level > 1 : \n",
    "        levelNodes( root.left,level-1 ) \n",
    "        levelNodes( root.right,level-1 ) \n",
    "def height(node): \n",
    "    if node is None: \n",
    "        return 0 \n",
    "    else : \n",
    "        lheight = height(node.left) # Left subtree height\n",
    "        rheight = height(node.right) # Right subtree height\n",
    "        if lheight > rheight : # Use larger tree\n",
    "            return lheight+1\n",
    "        else: \n",
    "            return rheight+1\n",
    "\n",
    "        \n",
    "        \n",
    "root = Node(1) \n",
    "root.left = Node(2) \n",
    "root.right = Node(3) \n",
    "root.left.left = Node(4) \n",
    "root.left.right = Node(5) \n",
    "root.right.left = Node(6)\n",
    "root.right.right = Node(7)\n",
    "root.left.left.left = Node(8)\n",
    "root.left.left.right = Node(9)\n",
    "root.left.right.left = Node(10)\n",
    "root.left.right.right = Node(11)\n",
    "root.right.left.left = Node(12)\n",
    "root.right.left.right = Node(13)\n",
    "root.right.right.left = Node(14)\n",
    "root.right.right.right = Node(15)\n",
    "print(\"Breadth traversal:\")\n",
    "breadthLevel(root)"
   ]
  },
  {
   "cell_type": "code",
   "execution_count": null,
   "metadata": {},
   "outputs": [],
   "source": []
  }
 ],
 "metadata": {
  "kernelspec": {
   "display_name": "Python 3",
   "language": "python",
   "name": "python3"
  },
  "language_info": {
   "codemirror_mode": {
    "name": "ipython",
    "version": 3
   },
   "file_extension": ".py",
   "mimetype": "text/x-python",
   "name": "python",
   "nbconvert_exporter": "python",
   "pygments_lexer": "ipython3",
   "version": "3.7.3"
  }
 },
 "nbformat": 4,
 "nbformat_minor": 2
}
